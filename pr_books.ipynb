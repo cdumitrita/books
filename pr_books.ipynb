{
 "nbformat": 4,
 "nbformat_minor": 0,
 "metadata": {
  "colab": {
   "provenance": [],
   "authorship_tag": "ABX9TyP8z+wnNKWNaDGFgP1J7nlr",
   "include_colab_link": true
  },
  "kernelspec": {
   "name": "python3",
   "language": "python",
   "display_name": "Python 3 (ipykernel)"
  },
  "language_info": {
   "name": "python"
  }
 },
 "cells": [
  {
   "cell_type": "markdown",
   "metadata": {
    "id": "view-in-github",
    "colab_type": "text"
   },
   "source": [
    "<a href=\"https://colab.research.google.com/github/cdumitrita/books/blob/main/pr_books.ipynb\" target=\"_parent\"><img src=\"https://colab.research.google.com/assets/colab-badge.svg\" alt=\"Open In Colab\"/></a>"
   ]
  },
  {
   "cell_type": "code",
   "source": [
    "import pandas as pd\n",
    "\n",
    "#clear the data from the rating book dataset\n",
    "df_book_ratings = pd.read_csv('BX-Book-Ratings.csv', encoding='latin1', on_bad_lines='skip', delimiter=';')\n",
    "\n",
    "# Split the column into three separate columns\n",
    "df_book_ratings[['User-ID', 'ISBN', 'Book-Rating']] = df_book_ratings['User-ID;\"ISBN\";\"Book-Rating\",'].str.split(';', expand=True)\n",
    "# drop the original column \n",
    "df_book_ratings = df_book_ratings.drop('User-ID;\"ISBN\";\"Book-Rating\",', axis=1)\n",
    "\n",
    "# correct the ISBN and Book-Rating format\n",
    "df_book_ratings['ISBN'] = df_book_ratings['ISBN'].str.replace('\"', '')\n",
    "df_book_ratings['Book-Rating'] = df_book_ratings['Book-Rating'].str.extract('(\\d+)').astype(int)\n",
    "\n",
    "#check for null values - it returned False, so need to drop any rows\n",
    "has_nan_values = df_book_ratings.isna().any().any()\n",
    "# print(has_nan_values)\n",
    "\n",
    "#ISBN - have different notation - I supose the corect ISBN consist of 10 numbers withput any other symbol\n",
    "# clear the column values\n",
    "df_book_ratings['ISBN'] = df_book_ratings['ISBN'].str.replace(r'\\D', '', regex=True)\n",
    "df_book_ratings = df_book_ratings[df_book_ratings['ISBN'].str.len() == 10]\n",
    "\n",
    "# should I remove ISBN with 000000?\n",
    "# display(df_book_ratings.sort_values(by='ISBN'))"
   ],
   "metadata": {
    "id": "W1XqkcVu2z-g",
    "ExecuteTime": {
     "end_time": "2023-06-09T09:26:40.078917600Z",
     "start_time": "2023-06-09T09:26:32.279056900Z"
    }
   },
   "execution_count": 8,
   "outputs": []
  },
  {
   "cell_type": "code",
   "source": [
    "\n",
    "df_books = pd.read_csv('BX-Books.csv', encoding='latin1', on_bad_lines='skip', low_memory=False)\n",
    "\n",
    "# drop the columns that don't have anything in it \n",
    "df_books = df_books.dropna(axis=1)\n",
    "\n",
    "# split the column for a better representation of data\n",
    "split_columns = df_books['ISBN;\"Book-Title\";\"Book-Author\";\"Year-Of-Publication\";\"Publisher\";\"Image-URL-S\";\"Image-URL-M\";\"Image-URL-L\"'].str.split(';', expand=True)\n",
    "# assign the split columns to the DataFrame\n",
    "df_books['ISBN'] = split_columns[0]\n",
    "df_books['Book-Title'] = split_columns[1]\n",
    "df_books['Book-Author'] = split_columns[2]\n",
    "df_books['Year-of-Publication'] = split_columns[3]\n",
    "df_books['Publisher'] = split_columns[4]\n",
    "df_books['Image-URL-S'] = split_columns[5]\n",
    "df_books['Image-URL-M'] = split_columns[6]\n",
    "df_books['Image-URL-L'] = split_columns[7]\n",
    "# Drop the original column\n",
    "df_books = df_books.drop('ISBN;\"Book-Title\";\"Book-Author\";\"Year-Of-Publication\";\"Publisher\";\"Image-URL-S\";\"Image-URL-M\";\"Image-URL-L\"', axis=1)\n",
    "\n",
    "# remove the \" \" from all the values\n",
    "df_books['Book-Title'] = df_books['Book-Title'].str.replace('\"', '')\n",
    "df_books['Book-Author'] = df_books['Book-Author'].str.replace('\"', '')\n",
    "df_books['Year-of-Publication'] = df_books['Year-of-Publication'].str.replace('\"', '')\n",
    "df_books['Publisher'] = df_books['Publisher'].str.replace('\"', '')\n",
    "df_books['Image-URL-S'] = df_books['Image-URL-S'].str.replace('\"', '')\n",
    "df_books['Image-URL-M'] = df_books['Image-URL-M'].str.replace('\"', '')\n",
    "df_books['Image-URL-L'] = df_books['Image-URL-L'].str.replace('\"', '')\n",
    "\n",
    "#clear the ISBN to make a valid identifyer\n",
    "df_books['ISBN'] = df_books['ISBN'].str.replace(r'\\D', '', regex=True)\n",
    "df_books = df_books.reset_index(drop=True)\n",
    "df_books = df_books[df_books['ISBN'].str.len() == 10]\n",
    "\n",
    "# should I remove year of publication 0?\n",
    "\n",
    "# display(df_books.sort_values(by='ISBN'))"
   ],
   "metadata": {
    "colab": {
     "base_uri": "https://localhost:8080/",
     "height": 834
    },
    "id": "tsbDF9u3LkuE",
    "outputId": "f70d638f-5d83-4359-9548-375ac2471ba9",
    "ExecuteTime": {
     "end_time": "2023-06-09T09:26:26.704242300Z",
     "start_time": "2023-06-09T09:26:21.031389300Z"
    }
   },
   "execution_count": 7,
   "outputs": [
    {
     "data": {
      "text/plain": "              ISBN                                         Book-Title  \\\n254266  0000913154  The Way Things Work: An Illustrated Encycloped...   \n215818  0001010565                                    Mog's Christmas   \n42563   0001046438                                               Liar   \n112560  0001046713                       Twopence to Cross the Mersey   \n146200  0001046934                      The Prime of Miss Jean Brodie   \n...            ...                                                ...   \n99577   9999669972             Being Bullied (Lets Talk About Series)   \n52372   9999980538                                       Murphy's Law   \n188033  9999984584                                           Anointed   \n180749  9999991556  Impact of New Product Introductions on the Mar...   \n63713   9999999999               World Directory of Awards and Prizes   \n\n                          Book-Author Year-of-Publication  \\\n254266  C. van Amerongen (translator)                1967   \n215818                    Judith Kerr                1992   \n42563                     Stephen Fry                   0   \n112560                Helen Forrester                1992   \n146200                   Muriel Spark                1999   \n...                               ...                 ...   \n99577                       Joy Berry                1989   \n52372                   Colin Bateman                2002   \n188033                     Zev Halevi                1987   \n180749                           None                None   \n63713                Joseph L. Heller                1996   \n\n                          Publisher  \\\n254266                   Simon &amp   \n215818                      Collins   \n42563              Harpercollins Uk   \n112560     HarperCollins Publishers   \n146200  Trafalgar Square Publishing   \n...                             ...   \n99577                 Smithmark Pub   \n52372                      Headline   \n188033                    Routledge   \n180749                         None   \n63713     Access Publishers Network   \n\n                                              Image-URL-S  \\\n254266                                           Schuster   \n215818  http://images.amazon.com/images/P/0001010565.0...   \n42563   http://images.amazon.com/images/P/0001046438.0...   \n112560  http://images.amazon.com/images/P/0001046713.0...   \n146200  http://images.amazon.com/images/P/0001046934.0...   \n...                                                   ...   \n99577   http://images.amazon.com/images/P/9999669972.0...   \n52372   http://images.amazon.com/images/P/9999980538.0...   \n188033  http://images.amazon.com/images/P/9999984584.0...   \n180749                                               None   \n63713   http://images.amazon.com/images/P/9999999999.0...   \n\n                                              Image-URL-M  \\\n254266  http://images.amazon.com/images/P/0000913154.0...   \n215818  http://images.amazon.com/images/P/0001010565.0...   \n42563   http://images.amazon.com/images/P/0001046438.0...   \n112560  http://images.amazon.com/images/P/0001046713.0...   \n146200  http://images.amazon.com/images/P/0001046934.0...   \n...                                                   ...   \n99577   http://images.amazon.com/images/P/9999669972.0...   \n52372   http://images.amazon.com/images/P/9999980538.0...   \n188033  http://images.amazon.com/images/P/9999984584.0...   \n180749                                               None   \n63713   http://images.amazon.com/images/P/9999999999.0...   \n\n                                              Image-URL-L  \n254266  http://images.amazon.com/images/P/0000913154.0...  \n215818  http://images.amazon.com/images/P/0001010565.0...  \n42563   http://images.amazon.com/images/P/0001046438.0...  \n112560  http://images.amazon.com/images/P/0001046713.0...  \n146200  http://images.amazon.com/images/P/0001046934.0...  \n...                                                   ...  \n99577   http://images.amazon.com/images/P/9999669972.0...  \n52372   http://images.amazon.com/images/P/9999980538.0...  \n188033  http://images.amazon.com/images/P/9999984584.0...  \n180749                                               None  \n63713   http://images.amazon.com/images/P/9999999999.0...  \n\n[249041 rows x 8 columns]",
      "text/html": "<div>\n<style scoped>\n    .dataframe tbody tr th:only-of-type {\n        vertical-align: middle;\n    }\n\n    .dataframe tbody tr th {\n        vertical-align: top;\n    }\n\n    .dataframe thead th {\n        text-align: right;\n    }\n</style>\n<table border=\"1\" class=\"dataframe\">\n  <thead>\n    <tr style=\"text-align: right;\">\n      <th></th>\n      <th>ISBN</th>\n      <th>Book-Title</th>\n      <th>Book-Author</th>\n      <th>Year-of-Publication</th>\n      <th>Publisher</th>\n      <th>Image-URL-S</th>\n      <th>Image-URL-M</th>\n      <th>Image-URL-L</th>\n    </tr>\n  </thead>\n  <tbody>\n    <tr>\n      <th>254266</th>\n      <td>0000913154</td>\n      <td>The Way Things Work: An Illustrated Encycloped...</td>\n      <td>C. van Amerongen (translator)</td>\n      <td>1967</td>\n      <td>Simon &amp;amp</td>\n      <td>Schuster</td>\n      <td>http://images.amazon.com/images/P/0000913154.0...</td>\n      <td>http://images.amazon.com/images/P/0000913154.0...</td>\n    </tr>\n    <tr>\n      <th>215818</th>\n      <td>0001010565</td>\n      <td>Mog's Christmas</td>\n      <td>Judith Kerr</td>\n      <td>1992</td>\n      <td>Collins</td>\n      <td>http://images.amazon.com/images/P/0001010565.0...</td>\n      <td>http://images.amazon.com/images/P/0001010565.0...</td>\n      <td>http://images.amazon.com/images/P/0001010565.0...</td>\n    </tr>\n    <tr>\n      <th>42563</th>\n      <td>0001046438</td>\n      <td>Liar</td>\n      <td>Stephen Fry</td>\n      <td>0</td>\n      <td>Harpercollins Uk</td>\n      <td>http://images.amazon.com/images/P/0001046438.0...</td>\n      <td>http://images.amazon.com/images/P/0001046438.0...</td>\n      <td>http://images.amazon.com/images/P/0001046438.0...</td>\n    </tr>\n    <tr>\n      <th>112560</th>\n      <td>0001046713</td>\n      <td>Twopence to Cross the Mersey</td>\n      <td>Helen Forrester</td>\n      <td>1992</td>\n      <td>HarperCollins Publishers</td>\n      <td>http://images.amazon.com/images/P/0001046713.0...</td>\n      <td>http://images.amazon.com/images/P/0001046713.0...</td>\n      <td>http://images.amazon.com/images/P/0001046713.0...</td>\n    </tr>\n    <tr>\n      <th>146200</th>\n      <td>0001046934</td>\n      <td>The Prime of Miss Jean Brodie</td>\n      <td>Muriel Spark</td>\n      <td>1999</td>\n      <td>Trafalgar Square Publishing</td>\n      <td>http://images.amazon.com/images/P/0001046934.0...</td>\n      <td>http://images.amazon.com/images/P/0001046934.0...</td>\n      <td>http://images.amazon.com/images/P/0001046934.0...</td>\n    </tr>\n    <tr>\n      <th>...</th>\n      <td>...</td>\n      <td>...</td>\n      <td>...</td>\n      <td>...</td>\n      <td>...</td>\n      <td>...</td>\n      <td>...</td>\n      <td>...</td>\n    </tr>\n    <tr>\n      <th>99577</th>\n      <td>9999669972</td>\n      <td>Being Bullied (Lets Talk About Series)</td>\n      <td>Joy Berry</td>\n      <td>1989</td>\n      <td>Smithmark Pub</td>\n      <td>http://images.amazon.com/images/P/9999669972.0...</td>\n      <td>http://images.amazon.com/images/P/9999669972.0...</td>\n      <td>http://images.amazon.com/images/P/9999669972.0...</td>\n    </tr>\n    <tr>\n      <th>52372</th>\n      <td>9999980538</td>\n      <td>Murphy's Law</td>\n      <td>Colin Bateman</td>\n      <td>2002</td>\n      <td>Headline</td>\n      <td>http://images.amazon.com/images/P/9999980538.0...</td>\n      <td>http://images.amazon.com/images/P/9999980538.0...</td>\n      <td>http://images.amazon.com/images/P/9999980538.0...</td>\n    </tr>\n    <tr>\n      <th>188033</th>\n      <td>9999984584</td>\n      <td>Anointed</td>\n      <td>Zev Halevi</td>\n      <td>1987</td>\n      <td>Routledge</td>\n      <td>http://images.amazon.com/images/P/9999984584.0...</td>\n      <td>http://images.amazon.com/images/P/9999984584.0...</td>\n      <td>http://images.amazon.com/images/P/9999984584.0...</td>\n    </tr>\n    <tr>\n      <th>180749</th>\n      <td>9999991556</td>\n      <td>Impact of New Product Introductions on the Mar...</td>\n      <td>None</td>\n      <td>None</td>\n      <td>None</td>\n      <td>None</td>\n      <td>None</td>\n      <td>None</td>\n    </tr>\n    <tr>\n      <th>63713</th>\n      <td>9999999999</td>\n      <td>World Directory of Awards and Prizes</td>\n      <td>Joseph L. Heller</td>\n      <td>1996</td>\n      <td>Access Publishers Network</td>\n      <td>http://images.amazon.com/images/P/9999999999.0...</td>\n      <td>http://images.amazon.com/images/P/9999999999.0...</td>\n      <td>http://images.amazon.com/images/P/9999999999.0...</td>\n    </tr>\n  </tbody>\n</table>\n<p>249041 rows × 8 columns</p>\n</div>"
     },
     "metadata": {},
     "output_type": "display_data"
    }
   ]
  },
  {
   "cell_type": "code",
   "source": [
    "import pandas as pd\n",
    "\n",
    "df_users = pd.read_csv('BX-Users.csv', encoding='latin1', on_bad_lines='skip', low_memory =False)\n",
    "\n",
    "\n",
    "df_users['User-Id'] = df_users['User-ID'].str.extract(r'^(\\d+)')\n",
    "# Extract Locations from the three columns\n",
    "df_users['Age'] = df_users['\"Age\"'].str.extract(r'\";\"([^\"]*)\"')\n",
    "df_users['City'] = df_users['User-ID'].str.extract(r';\"([^\"]*)')\n",
    "df_users['Region'] = df_users['\"Location\"']\n",
    "df_users['Country'] = df_users['\"Age\"'].str.extract(r'([^\"]*)\";')\n",
    "\n",
    "df_users = df_users.drop(['Unnamed: 3', 'Unnamed: 4', 'Unnamed: 5', 'Unnamed: 6', 'Unnamed: 7', 'Unnamed: 8'], axis=1)\n",
    "df_users = df_users.drop(['User-ID', '\"Location\"', '\"Age\"'], axis=1)\n",
    "# display(df_users.sort_values(by='User-Id'))"
   ],
   "metadata": {
    "colab": {
     "base_uri": "https://localhost:8080/",
     "height": 519
    },
    "id": "t6YgJYADMgOL",
    "outputId": "4362504a-78d4-4c04-d44e-98af209309c7",
    "ExecuteTime": {
     "end_time": "2023-06-09T09:52:22.691270400Z",
     "start_time": "2023-06-09T09:52:18.592494300Z"
    }
   },
   "execution_count": 39,
   "outputs": [
    {
     "data": {
      "text/plain": "       User-Id  Age          City          Region          Country\n0            1  NaN           nyc        new york              usa\n9           10   26      albacete       wisconsin            spain\n98         100   44        madrid             n/a            spain\n992       1000   34        teramo         abruzzo            italy\n9908     10000   38  jacksonville         florida              usa\n...        ...  ...           ...             ...              ...\n99039    99996   43       toronto         ontario           canada\n99040    99997   33   fredericton   new brunswick           canada\n99041    99998   22     cambridge         england   united kingdom\n99042    99999   46       hamburg         hamburg          germany\n272528     NaN  NaN           NaN           milan            italy\n\n[276271 rows x 5 columns]",
      "text/html": "<div>\n<style scoped>\n    .dataframe tbody tr th:only-of-type {\n        vertical-align: middle;\n    }\n\n    .dataframe tbody tr th {\n        vertical-align: top;\n    }\n\n    .dataframe thead th {\n        text-align: right;\n    }\n</style>\n<table border=\"1\" class=\"dataframe\">\n  <thead>\n    <tr style=\"text-align: right;\">\n      <th></th>\n      <th>User-Id</th>\n      <th>Age</th>\n      <th>City</th>\n      <th>Region</th>\n      <th>Country</th>\n    </tr>\n  </thead>\n  <tbody>\n    <tr>\n      <th>0</th>\n      <td>1</td>\n      <td>NaN</td>\n      <td>nyc</td>\n      <td>new york</td>\n      <td>usa</td>\n    </tr>\n    <tr>\n      <th>9</th>\n      <td>10</td>\n      <td>26</td>\n      <td>albacete</td>\n      <td>wisconsin</td>\n      <td>spain</td>\n    </tr>\n    <tr>\n      <th>98</th>\n      <td>100</td>\n      <td>44</td>\n      <td>madrid</td>\n      <td>n/a</td>\n      <td>spain</td>\n    </tr>\n    <tr>\n      <th>992</th>\n      <td>1000</td>\n      <td>34</td>\n      <td>teramo</td>\n      <td>abruzzo</td>\n      <td>italy</td>\n    </tr>\n    <tr>\n      <th>9908</th>\n      <td>10000</td>\n      <td>38</td>\n      <td>jacksonville</td>\n      <td>florida</td>\n      <td>usa</td>\n    </tr>\n    <tr>\n      <th>...</th>\n      <td>...</td>\n      <td>...</td>\n      <td>...</td>\n      <td>...</td>\n      <td>...</td>\n    </tr>\n    <tr>\n      <th>99039</th>\n      <td>99996</td>\n      <td>43</td>\n      <td>toronto</td>\n      <td>ontario</td>\n      <td>canada</td>\n    </tr>\n    <tr>\n      <th>99040</th>\n      <td>99997</td>\n      <td>33</td>\n      <td>fredericton</td>\n      <td>new brunswick</td>\n      <td>canada</td>\n    </tr>\n    <tr>\n      <th>99041</th>\n      <td>99998</td>\n      <td>22</td>\n      <td>cambridge</td>\n      <td>england</td>\n      <td>united kingdom</td>\n    </tr>\n    <tr>\n      <th>99042</th>\n      <td>99999</td>\n      <td>46</td>\n      <td>hamburg</td>\n      <td>hamburg</td>\n      <td>germany</td>\n    </tr>\n    <tr>\n      <th>272528</th>\n      <td>NaN</td>\n      <td>NaN</td>\n      <td>NaN</td>\n      <td>milan</td>\n      <td>italy</td>\n    </tr>\n  </tbody>\n</table>\n<p>276271 rows × 5 columns</p>\n</div>"
     },
     "metadata": {},
     "output_type": "display_data"
    }
   ]
  },
  {
   "cell_type": "code",
   "execution_count": 87,
   "outputs": [
    {
     "name": "stdout",
     "output_type": "stream",
     "text": [
      "No books found for usa\n"
     ]
    },
    {
     "name": "stderr",
     "output_type": "stream",
     "text": [
      "C:\\Users\\a905066\\AppData\\Local\\Temp\\ipykernel_17420\\39158638.py:17: UserWarning: Boolean Series key will be reindexed to match DataFrame index.\n",
      "  country_books = df_max_rating[df_merged_all['Country'] == country]['Book-Title']\n"
     ]
    }
   ],
   "source": [
    "# merge  the tables --  books with books rating on ISBN\n",
    "#                      --  rating with users on User-Id\n",
    "\n",
    "# need to remove all country with ;NULL as values\n",
    "\n",
    "df_merged_all = pd.merge(pd.merge(df_books, df_book_ratings, on='ISBN'), df_users, left_on='User-ID', right_on='User-Id')\n",
    "df_max_rating = df_merged_all.sort_values(by='Book-Rating', ascending=False)\n",
    "# display(df_max_rating.head(1000))\n",
    "# grouped = df_merged_all[df_merged_all['Country'].notnull()].groupby('Country')\n",
    "#\n",
    "# for country, group in grouped:\n",
    "#     print(\"Country:\", country)\n",
    "#     print(\"Books:\")\n",
    "#     print(group['Book-Title'])\n",
    "#     print(\"---------------------------------------\")\n",
    "def display_books_by_country(country):\n",
    "    country_books = df_max_rating[df_merged_all['Country'] == country]['Book-Title']\n",
    "    country_books = country_books.head(500)\n",
    "    if not country_books.empty:\n",
    "        print(\"Books from\", country)\n",
    "        print(country_books)\n",
    "    else:\n",
    "        print(\"No books found for\", country)\n",
    "display_books_by_country('usa')\n"
   ],
   "metadata": {
    "collapsed": false,
    "ExecuteTime": {
     "end_time": "2023-06-09T10:47:10.243635Z",
     "start_time": "2023-06-09T10:47:06.388202800Z"
    }
   }
  },
  {
   "cell_type": "code",
   "execution_count": null,
   "outputs": [],
   "source": [],
   "metadata": {
    "collapsed": false
   }
  }
 ]
}
